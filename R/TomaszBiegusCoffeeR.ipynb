{
 "cells": [
  {
   "cell_type": "markdown",
   "metadata": {},
   "source": [
    "# Tomasz Biegus Coffee data analysis"
   ]
  },
  {
   "cell_type": "markdown",
   "metadata": {},
   "source": [
    "In analysis I decided to use great library DALEX which is designed exactly for tasks like this one.\n",
    "Here's the site of project: https://github.com/pbiecek/DALEX\n",
    "DALEX calculate how much we loose in accuracy if certain variable is permuted, which means this variable havent hold any valuable information anymore."
   ]
  },
  {
   "cell_type": "code",
   "execution_count": 4,
   "metadata": {
    "collapsed": true
   },
   "outputs": [],
   "source": [
    "options(warn=-1)"
   ]
  },
  {
   "cell_type": "code",
   "execution_count": 5,
   "metadata": {
    "collapsed": false
   },
   "outputs": [],
   "source": [
    "library(tidyverse)\n",
    "library(randomForest)\n",
    "library(DALEX)"
   ]
  },
  {
   "cell_type": "markdown",
   "metadata": {},
   "source": [
    "Read the data and deal with na's."
   ]
  },
  {
   "cell_type": "code",
   "execution_count": 6,
   "metadata": {
    "collapsed": false
   },
   "outputs": [
    {
     "name": "stdout",
     "output_type": "stream",
     "text": [
      "     |      Out-of-bag   |\n",
      "Tree |      MSE  %Var(y) |\n",
      " 300 |    1.076    68.26 |\n",
      "     |      Out-of-bag   |\n",
      "Tree |      MSE  %Var(y) |\n",
      " 300 |    1.062    67.38 |\n",
      "     |      Out-of-bag   |\n",
      "Tree |      MSE  %Var(y) |\n",
      " 300 |     1.08    68.49 |\n",
      "     |      Out-of-bag   |\n",
      "Tree |      MSE  %Var(y) |\n",
      " 300 |    1.079    68.42 |\n",
      "     |      Out-of-bag   |\n",
      "Tree |      MSE  %Var(y) |\n",
      " 300 |    1.066    67.64 |\n"
     ]
    }
   ],
   "source": [
    "coffee_data = read.csv(\"coffee_data.csv\")\n",
    "set.seed(222)\n",
    "coffee_imputed  <- rfImpute(mark ~ ., coffee_data);\n",
    "set.seed(333)"
   ]
  },
  {
   "cell_type": "markdown",
   "metadata": {},
   "source": [
    "Build random forest model."
   ]
  },
  {
   "cell_type": "code",
   "execution_count": 7,
   "metadata": {
    "collapsed": false
   },
   "outputs": [],
   "source": [
    "coffee_rf <- randomForest(mark~., data=coffee_imputed, ntree=100)"
   ]
  },
  {
   "cell_type": "markdown",
   "metadata": {},
   "source": [
    "Explain importance of variables using DALEX."
   ]
  },
  {
   "cell_type": "code",
   "execution_count": 8,
   "metadata": {
    "collapsed": false
   },
   "outputs": [
    {
     "data": {
      "text/html": [
       "<table>\n",
       "<thead><tr><th scope=col>variable</th><th scope=col>dropout_loss</th><th scope=col>label</th></tr></thead>\n",
       "<tbody>\n",
       "\t<tr><td>_full_model_     </td><td> 201.8064        </td><td>randomForest     </td></tr>\n",
       "\t<tr><td>mark             </td><td> 201.8064        </td><td>randomForest     </td></tr>\n",
       "\t<tr><td>processing_method</td><td> 244.9469        </td><td>randomForest     </td></tr>\n",
       "\t<tr><td>preinfusion      </td><td> 249.8113        </td><td>randomForest     </td></tr>\n",
       "\t<tr><td>TDS              </td><td> 329.4269        </td><td>randomForest     </td></tr>\n",
       "\t<tr><td>region           </td><td> 332.5095        </td><td>randomForest     </td></tr>\n",
       "\t<tr><td>water_ph         </td><td> 374.5782        </td><td>randomForest     </td></tr>\n",
       "\t<tr><td>plantation_height</td><td> 389.5276        </td><td>randomForest     </td></tr>\n",
       "\t<tr><td>brewing_temp     </td><td> 515.4418        </td><td>randomForest     </td></tr>\n",
       "\t<tr><td>grinding_level   </td><td> 608.8571        </td><td>randomForest     </td></tr>\n",
       "\t<tr><td>coffee_amount    </td><td> 833.9984        </td><td>randomForest     </td></tr>\n",
       "\t<tr><td>brewing_time     </td><td> 989.2573        </td><td>randomForest     </td></tr>\n",
       "\t<tr><td>_baseline_       </td><td>2090.7454        </td><td>randomForest     </td></tr>\n",
       "</tbody>\n",
       "</table>\n"
      ],
      "text/latex": [
       "\\begin{tabular}{r|lll}\n",
       " variable & dropout\\_loss & label\\\\\n",
       "\\hline\n",
       "\t \\_full\\_model\\_      &  201.8064               & randomForest           \\\\\n",
       "\t mark              &  201.8064         & randomForest     \\\\\n",
       "\t processing\\_method &  244.9469           & randomForest       \\\\\n",
       "\t preinfusion       &  249.8113         & randomForest     \\\\\n",
       "\t TDS               &  329.4269         & randomForest     \\\\\n",
       "\t region            &  332.5095         & randomForest     \\\\\n",
       "\t water\\_ph          &  374.5782           & randomForest       \\\\\n",
       "\t plantation\\_height &  389.5276           & randomForest       \\\\\n",
       "\t brewing\\_temp      &  515.4418           & randomForest       \\\\\n",
       "\t grinding\\_level    &  608.8571           & randomForest       \\\\\n",
       "\t coffee\\_amount     &  833.9984           & randomForest       \\\\\n",
       "\t brewing\\_time      &  989.2573           & randomForest       \\\\\n",
       "\t \\_baseline\\_        & 2090.7454             & randomForest         \\\\\n",
       "\\end{tabular}\n"
      ],
      "text/markdown": [
       "\n",
       "variable | dropout_loss | label | \n",
       "|---|---|---|---|---|---|---|---|---|---|---|---|---|\n",
       "| _full_model_      |  201.8064         | randomForest      | \n",
       "| mark              |  201.8064         | randomForest      | \n",
       "| processing_method |  244.9469         | randomForest      | \n",
       "| preinfusion       |  249.8113         | randomForest      | \n",
       "| TDS               |  329.4269         | randomForest      | \n",
       "| region            |  332.5095         | randomForest      | \n",
       "| water_ph          |  374.5782         | randomForest      | \n",
       "| plantation_height |  389.5276         | randomForest      | \n",
       "| brewing_temp      |  515.4418         | randomForest      | \n",
       "| grinding_level    |  608.8571         | randomForest      | \n",
       "| coffee_amount     |  833.9984         | randomForest      | \n",
       "| brewing_time      |  989.2573         | randomForest      | \n",
       "| _baseline_        | 2090.7454         | randomForest      | \n",
       "\n",
       "\n"
      ],
      "text/plain": [
       "   variable          dropout_loss label       \n",
       "1  _full_model_       201.8064    randomForest\n",
       "2  mark               201.8064    randomForest\n",
       "3  processing_method  244.9469    randomForest\n",
       "4  preinfusion        249.8113    randomForest\n",
       "5  TDS                329.4269    randomForest\n",
       "6  region             332.5095    randomForest\n",
       "7  water_ph           374.5782    randomForest\n",
       "8  plantation_height  389.5276    randomForest\n",
       "9  brewing_temp       515.4418    randomForest\n",
       "10 grinding_level     608.8571    randomForest\n",
       "11 coffee_amount      833.9984    randomForest\n",
       "12 brewing_time       989.2573    randomForest\n",
       "13 _baseline_        2090.7454    randomForest"
      ]
     },
     "metadata": {},
     "output_type": "display_data"
    },
    {
     "data": {},
     "metadata": {},
     "output_type": "display_data"
    },
    {
     "data": {
      "image/png": "[encoded data removed]",
      "text/plain": [
       "plot without title"
      ]
     },
     "metadata": {},
     "output_type": "display_data"
    }
   ],
   "source": [
    "explainter_rf <- explain(coffee_rf, data = coffee_imputed, y = coffee_imputed$mark)\n",
    "variable_importance_rf <- variable_importance(explainter_rf, type = \"raw\")\n",
    "variable_importance_rf\n",
    "plot(variable_importance_rf)"
   ]
  },
  {
   "cell_type": "markdown",
   "metadata": {},
   "source": [
    "As we can see, the most important variable is brewing_time followed by coffee_amount and grinding_level."
   ]
  }
 ],
 "metadata": {
  "anaconda-cloud": {},
  "kernelspec": {
   "display_name": "R",
   "language": "R",
   "name": "ir"
  },
  "language_info": {
   "codemirror_mode": "r",
   "file_extension": ".r",
   "mimetype": "text/x-r-source",
   "name": "R",
   "pygments_lexer": "r",
   "version": "3.5.1"
  }
 },
 "nbformat": 4,
 "nbformat_minor": 1
}
