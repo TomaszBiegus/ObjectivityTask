{
 "cells": [
  {
   "cell_type": "markdown",
   "metadata": {},
   "source": [
    "# Tomasz Biegus Coffee data analysis - Python"
   ]
  },
  {
   "cell_type": "markdown",
   "metadata": {},
   "source": [
    "I decided to perform two analysis, one with R and another in python, because I see the python is more used in Objectivity (maybe I'm wrong about that). I decided to use R because of great tool called DALEX, which is developed exactly for this task. In Python i perform more basic analysis."
   ]
  },
  {
   "cell_type": "markdown",
   "metadata": {},
   "source": [
    "# 1. Preliminary data processing"
   ]
  },
  {
   "cell_type": "markdown",
   "metadata": {},
   "source": [
    "Imports and read the data."
   ]
  },
  {
   "cell_type": "code",
   "execution_count": 1,
   "metadata": {
    "collapsed": true
   },
   "outputs": [],
   "source": [
    "import matplotlib.pyplot as plt\n",
    "import pandas as pd\n",
    "from pandas.api.types import is_numeric_dtype\n",
    "from sklearn.preprocessing import MinMaxScaler"
   ]
  },
  {
   "cell_type": "code",
   "execution_count": 2,
   "metadata": {
    "collapsed": true
   },
   "outputs": [],
   "source": [
    "coffee_data = pd.read_csv(\"coffee_data.csv\")"
   ]
  },
  {
   "cell_type": "markdown",
   "metadata": {},
   "source": [
    "Short looka at the data."
   ]
  },
  {
   "cell_type": "code",
   "execution_count": 3,
   "metadata": {
    "collapsed": false,
    "scrolled": true
   },
   "outputs": [
    {
     "data": {
      "text/html": [
       "<div>\n",
       "<style scoped>\n",
       "    .dataframe tbody tr th:only-of-type {\n",
       "        vertical-align: middle;\n",
       "    }\n",
       "\n",
       "    .dataframe tbody tr th {\n",
       "        vertical-align: top;\n",
       "    }\n",
       "\n",
       "    .dataframe thead th {\n",
       "        text-align: right;\n",
       "    }\n",
       "</style>\n",
       "<table border=\"1\" class=\"dataframe\">\n",
       "  <thead>\n",
       "    <tr style=\"text-align: right;\">\n",
       "      <th></th>\n",
       "      <th>region</th>\n",
       "      <th>brewing_temp</th>\n",
       "      <th>coffee_amount</th>\n",
       "      <th>preinfusion</th>\n",
       "      <th>grinding_level</th>\n",
       "      <th>TDS</th>\n",
       "      <th>water_ph</th>\n",
       "      <th>plantation_height</th>\n",
       "      <th>processing_method</th>\n",
       "      <th>brewing_time</th>\n",
       "      <th>mark</th>\n",
       "    </tr>\n",
       "  </thead>\n",
       "  <tbody>\n",
       "    <tr>\n",
       "      <th>0</th>\n",
       "      <td>Panama</td>\n",
       "      <td>91.1</td>\n",
       "      <td>NaN</td>\n",
       "      <td>0.0</td>\n",
       "      <td>7.0</td>\n",
       "      <td>NaN</td>\n",
       "      <td>6.67</td>\n",
       "      <td>1710.0</td>\n",
       "      <td>Honey</td>\n",
       "      <td>189.0</td>\n",
       "      <td>3</td>\n",
       "    </tr>\n",
       "    <tr>\n",
       "      <th>1</th>\n",
       "      <td>Panama</td>\n",
       "      <td>94.0</td>\n",
       "      <td>5.9</td>\n",
       "      <td>NaN</td>\n",
       "      <td>2.0</td>\n",
       "      <td>0.14</td>\n",
       "      <td>3.00</td>\n",
       "      <td>1530.0</td>\n",
       "      <td>Honey</td>\n",
       "      <td>95.0</td>\n",
       "      <td>3</td>\n",
       "    </tr>\n",
       "    <tr>\n",
       "      <th>2</th>\n",
       "      <td>Colombia</td>\n",
       "      <td>91.6</td>\n",
       "      <td>7.0</td>\n",
       "      <td>0.0</td>\n",
       "      <td>4.0</td>\n",
       "      <td>0.13</td>\n",
       "      <td>5.51</td>\n",
       "      <td>1370.0</td>\n",
       "      <td>Honey</td>\n",
       "      <td>147.0</td>\n",
       "      <td>3</td>\n",
       "    </tr>\n",
       "    <tr>\n",
       "      <th>3</th>\n",
       "      <td>Rwanda</td>\n",
       "      <td>92.3</td>\n",
       "      <td>NaN</td>\n",
       "      <td>0.0</td>\n",
       "      <td>4.0</td>\n",
       "      <td>0.13</td>\n",
       "      <td>7.11</td>\n",
       "      <td>1630.0</td>\n",
       "      <td>Honey</td>\n",
       "      <td>158.0</td>\n",
       "      <td>3</td>\n",
       "    </tr>\n",
       "    <tr>\n",
       "      <th>4</th>\n",
       "      <td>Panama</td>\n",
       "      <td>98.9</td>\n",
       "      <td>9.5</td>\n",
       "      <td>NaN</td>\n",
       "      <td>3.0</td>\n",
       "      <td>0.11</td>\n",
       "      <td>6.06</td>\n",
       "      <td>1400.0</td>\n",
       "      <td>Washed</td>\n",
       "      <td>178.0</td>\n",
       "      <td>3</td>\n",
       "    </tr>\n",
       "  </tbody>\n",
       "</table>\n",
       "</div>"
      ],
      "text/plain": [
       "     region  brewing_temp  coffee_amount  preinfusion  grinding_level   TDS  \\\n",
       "0    Panama          91.1            NaN          0.0             7.0   NaN   \n",
       "1    Panama          94.0            5.9          NaN             2.0  0.14   \n",
       "2  Colombia          91.6            7.0          0.0             4.0  0.13   \n",
       "3    Rwanda          92.3            NaN          0.0             4.0  0.13   \n",
       "4    Panama          98.9            9.5          NaN             3.0  0.11   \n",
       "\n",
       "   water_ph  plantation_height processing_method  brewing_time  mark  \n",
       "0      6.67             1710.0             Honey         189.0     3  \n",
       "1      3.00             1530.0             Honey          95.0     3  \n",
       "2      5.51             1370.0             Honey         147.0     3  \n",
       "3      7.11             1630.0             Honey         158.0     3  \n",
       "4      6.06             1400.0            Washed         178.0     3  "
      ]
     },
     "execution_count": 3,
     "metadata": {},
     "output_type": "execute_result"
    }
   ],
   "source": [
    "coffee_data.head()"
   ]
  },
  {
   "cell_type": "markdown",
   "metadata": {},
   "source": [
    "Define helper function to summary the data."
   ]
  },
  {
   "cell_type": "code",
   "execution_count": 6,
   "metadata": {
    "collapsed": false
   },
   "outputs": [],
   "source": [
    "def summary(data_frame):\n",
    "    summary = pd.DataFrame(columns = [\"Attribute\", \"%NaN\", \"mean\", \"median\", \"std\"])\n",
    "    i = 0\n",
    "    for column in data_frame:\n",
    "        data = data_frame[column]\n",
    "        nanSum = data.isnull().sum()\n",
    "        size = data.size\n",
    "        nanFraction = nanSum / size\n",
    "        mean = median = std = \"NaN\"\n",
    "        if is_numeric_dtype(data):\n",
    "            mean = data.mean()\n",
    "            median = data.median()\n",
    "            std = data.std()\n",
    "        summary.loc[i] = [column, nanFraction, mean, median, std]\n",
    "        i+=1\n",
    "    return summary"
   ]
  },
  {
   "cell_type": "markdown",
   "metadata": {},
   "source": [
    "Check out how summary function works."
   ]
  },
  {
   "cell_type": "code",
   "execution_count": 7,
   "metadata": {
    "collapsed": false
   },
   "outputs": [
    {
     "name": "stdout",
     "output_type": "stream",
     "text": [
      "            Attribute   %NaN      mean median        std\n",
      "0              region  0.000       NaN    NaN        NaN\n",
      "1        brewing_temp  0.000    91.387   91.3    2.89638\n",
      "2       coffee_amount  0.132   6.98871    6.9    1.06826\n",
      "3         preinfusion  0.128  0.607798      1   0.488802\n",
      "4      grinding_level  0.000     4.744      5     1.4815\n",
      "5                 TDS  0.198  0.119152   0.12  0.0226998\n",
      "6            water_ph  0.000   6.30366  6.285    1.34444\n",
      "7   plantation_height  0.000    1405.8   1400    222.307\n",
      "8   processing_method  0.000       NaN    NaN        NaN\n",
      "9        brewing_time  0.000    164.84    166    33.5488\n",
      "10               mark  0.000     3.194      3    1.25679\n"
     ]
    }
   ],
   "source": [
    "print(summary(coffee_data))"
   ]
  },
  {
   "cell_type": "markdown",
   "metadata": {},
   "source": [
    "Define another helper function to look at distributions of numeric arguments."
   ]
  },
  {
   "cell_type": "code",
   "execution_count": 50,
   "metadata": {
    "collapsed": false
   },
   "outputs": [],
   "source": [
    "def plot_distributions(data_frame):\n",
    "    counter = 0\n",
    "    positions = [331,332,333,334,335,336,337,338,339]\n",
    "    for column in data_frame:\n",
    "        data = data_frame[column]\n",
    "        if is_numeric_dtype(data):\n",
    "            plt.subplot(positions[counter])\n",
    "            data.hist()\n",
    "            plt.title(column)\n",
    "            counter+=1\n",
    "    plt.subplots_adjust(top=1.0, bottom=0, left=0.10, right=0.95, hspace=0.25,\n",
    "                    wspace=0.35)\n",
    "    plt.show()"
   ]
  },
  {
   "cell_type": "markdown",
   "metadata": {},
   "source": [
    "Look at distributions of numeric variables."
   ]
  },
  {
   "cell_type": "code",
   "execution_count": 51,
   "metadata": {
    "collapsed": false
   },
   "outputs": [
    {
     "data": {
      "image/png": "[encoded data removed]",
      "text/plain": [
       "<matplotlib.figure.Figure at 0x7f03bd0c24e0>"
      ]
     },
     "metadata": {},
     "output_type": "display_data"
    }
   ],
   "source": [
    "plot_distributions(coffee_data)"
   ]
  },
  {
   "cell_type": "markdown",
   "metadata": {},
   "source": [
    "Normalization of numeric data using MinMaxScaler."
   ]
  },
  {
   "cell_type": "code",
   "execution_count": 52,
   "metadata": {
    "collapsed": false
   },
   "outputs": [],
   "source": [
    "def normalize_numeric_data(data_frame):\n",
    "    normalized_data = pd.DataFrame()\n",
    "    scaler = MinMaxScaler()\n",
    "    for column in data_frame:\n",
    "        data = data_frame[column]\n",
    "        if is_numeric_dtype(data):\n",
    "            data_column = data_frame[[column]]\n",
    "            null_index = data_column[column].isnull()\n",
    "            data_column.loc[~null_index, [column]] = scaler.fit_transform(data_column.loc[~null_index, [column]])\n",
    "            normalized_data[column] = data_column\n",
    "    return normalized_data"
   ]
  },
  {
   "cell_type": "markdown",
   "metadata": {},
   "source": [
    "Take a look at normalized numeric data."
   ]
  },
  {
   "cell_type": "code",
   "execution_count": 53,
   "metadata": {
    "collapsed": false
   },
   "outputs": [
    {
     "name": "stdout",
     "output_type": "stream",
     "text": [
      "   brewing_temp  coffee_amount  preinfusion  grinding_level       TDS  \\\n",
      "0      0.476471            NaN          0.0           0.750       NaN   \n",
      "1      0.647059       0.414286          NaN           0.125  0.600000   \n",
      "2      0.505882       0.571429          0.0           0.375  0.533333   \n",
      "3      0.547059            NaN          0.0           0.375  0.533333   \n",
      "4      0.935294       0.928571          NaN           0.250  0.400000   \n",
      "\n",
      "   water_ph  plantation_height  brewing_time  mark  \n",
      "0  0.524286           0.776923      0.716667   0.5  \n",
      "1  0.000000           0.638462      0.194444   0.5  \n",
      "2  0.358571           0.515385      0.483333   0.5  \n",
      "3  0.587143           0.715385      0.544444   0.5  \n",
      "4  0.437143           0.538462      0.655556   0.5  \n"
     ]
    }
   ],
   "source": [
    "import warnings\n",
    "warnings.filterwarnings('ignore')\n",
    "\n",
    "normalized_data = normalize_numeric_data(coffee_data)\n",
    "print(normalized_data.head())"
   ]
  },
  {
   "cell_type": "code",
   "execution_count": 54,
   "metadata": {
    "collapsed": false
   },
   "outputs": [
    {
     "name": "stdout",
     "output_type": "stream",
     "text": [
      "           Attribute   %NaN      mean    median       std\n",
      "0       brewing_temp  0.000  0.493353  0.488235  0.170375\n",
      "1      coffee_amount  0.132  0.569816  0.557143  0.152609\n",
      "2        preinfusion  0.128  0.607798  1.000000  0.488802\n",
      "3     grinding_level  0.000  0.468000  0.500000  0.185188\n",
      "4                TDS  0.198  0.461014  0.466667  0.151332\n",
      "5           water_ph  0.000  0.471951  0.469286  0.192063\n",
      "6  plantation_height  0.000  0.542923  0.538462  0.171005\n",
      "7       brewing_time  0.000  0.582444  0.588889  0.186382\n",
      "8               mark  0.000  0.548500  0.500000  0.314198\n"
     ]
    }
   ],
   "source": [
    "print(summary(normalized_data))"
   ]
  },
  {
   "cell_type": "code",
   "execution_count": 55,
   "metadata": {
    "collapsed": false
   },
   "outputs": [
    {
     "data": {
      "image/png": "[encoded data removed]",
      "text/plain": [
       "<matplotlib.figure.Figure at 0x7f03bcd5b5c0>"
      ]
     },
     "metadata": {},
     "output_type": "display_data"
    }
   ],
   "source": [
    "plot_distributions(normalized_data)"
   ]
  },
  {
   "cell_type": "markdown",
   "metadata": {},
   "source": [
    "Look at whole data to recall the categorical variables."
   ]
  },
  {
   "cell_type": "code",
   "execution_count": 56,
   "metadata": {
    "collapsed": false
   },
   "outputs": [
    {
     "name": "stdout",
     "output_type": "stream",
     "text": [
      "<class 'pandas.core.frame.DataFrame'>\n",
      "RangeIndex: 500 entries, 0 to 499\n",
      "Data columns (total 11 columns):\n",
      "region               500 non-null object\n",
      "brewing_temp         500 non-null float64\n",
      "coffee_amount        434 non-null float64\n",
      "preinfusion          436 non-null float64\n",
      "grinding_level       500 non-null float64\n",
      "TDS                  401 non-null float64\n",
      "water_ph             500 non-null float64\n",
      "plantation_height    500 non-null float64\n",
      "processing_method    500 non-null object\n",
      "brewing_time         500 non-null float64\n",
      "mark                 500 non-null int64\n",
      "dtypes: float64(8), int64(1), object(2)\n",
      "memory usage: 43.0+ KB\n"
     ]
    }
   ],
   "source": [
    "coffee_data.info()"
   ]
  },
  {
   "cell_type": "code",
   "execution_count": null,
   "metadata": {
    "collapsed": true
   },
   "outputs": [],
   "source": []
  },
  {
   "cell_type": "markdown",
   "metadata": {},
   "source": [
    "Deal with na values. We have big loss of rows caused by lots of na's in variables: preinfucion, coffee_amount and TDS. There are some techniques to deal with it for example by create regression models with those variables as an output (e.g model for input most probable values of coffee_amount where it's na, based on known values and another variables). Now I assume that lost of 20% of rows is acceptable."
   ]
  },
  {
   "cell_type": "code",
   "execution_count": 57,
   "metadata": {
    "collapsed": false
   },
   "outputs": [
    {
     "name": "stdout",
     "output_type": "stream",
     "text": [
      "<class 'pandas.core.frame.DataFrame'>\n",
      "RangeIndex: 500 entries, 0 to 499\n",
      "Data columns (total 9 columns):\n",
      "brewing_temp         500 non-null float64\n",
      "coffee_amount        434 non-null float64\n",
      "preinfusion          436 non-null float64\n",
      "grinding_level       500 non-null float64\n",
      "TDS                  401 non-null float64\n",
      "water_ph             500 non-null float64\n",
      "plantation_height    500 non-null float64\n",
      "brewing_time         500 non-null float64\n",
      "mark                 500 non-null float64\n",
      "dtypes: float64(9)\n",
      "memory usage: 35.2 KB\n"
     ]
    }
   ],
   "source": [
    "normalized_data.info()"
   ]
  },
  {
   "cell_type": "code",
   "execution_count": 58,
   "metadata": {
    "collapsed": true
   },
   "outputs": [],
   "source": [
    "numeric_clear_data = normalized_data.dropna()"
   ]
  },
  {
   "cell_type": "code",
   "execution_count": 59,
   "metadata": {
    "collapsed": false
   },
   "outputs": [
    {
     "name": "stdout",
     "output_type": "stream",
     "text": [
      "<class 'pandas.core.frame.DataFrame'>\n",
      "Int64Index: 306 entries, 2 to 499\n",
      "Data columns (total 9 columns):\n",
      "brewing_temp         306 non-null float64\n",
      "coffee_amount        306 non-null float64\n",
      "preinfusion          306 non-null float64\n",
      "grinding_level       306 non-null float64\n",
      "TDS                  306 non-null float64\n",
      "water_ph             306 non-null float64\n",
      "plantation_height    306 non-null float64\n",
      "brewing_time         306 non-null float64\n",
      "mark                 306 non-null float64\n",
      "dtypes: float64(9)\n",
      "memory usage: 23.9 KB\n"
     ]
    }
   ],
   "source": [
    "numeric_clear_data.info()"
   ]
  },
  {
   "cell_type": "code",
   "execution_count": 60,
   "metadata": {
    "collapsed": false
   },
   "outputs": [
    {
     "data": {
      "image/png": "[encoded data removed]",
      "text/plain": [
       "<matplotlib.figure.Figure at 0x7f03bcd2f128>"
      ]
     },
     "metadata": {},
     "output_type": "display_data"
    }
   ],
   "source": [
    "plot_distributions(numeric_clear_data)"
   ]
  },
  {
   "cell_type": "markdown",
   "metadata": {},
   "source": [
    "# 2. Analysis of correlation between numeric variables and mark."
   ]
  },
  {
   "cell_type": "markdown",
   "metadata": {},
   "source": [
    "Calculate and plot pearson correlation coefficients between variables and response (mark)."
   ]
  },
  {
   "cell_type": "code",
   "execution_count": 62,
   "metadata": {
    "collapsed": false
   },
   "outputs": [
    {
     "data": {
      "image/png": "[encoded data removed]",
      "text/plain": [
       "<matplotlib.figure.Figure at 0x7f03bccc8198>"
      ]
     },
     "metadata": {},
     "output_type": "display_data"
    },
    {
     "data": {
      "image/png": "[encoded data removed]",
      "text/plain": [
       "<matplotlib.figure.Figure at 0x7f03bd286518>"
      ]
     },
     "metadata": {},
     "output_type": "display_data"
    },
    {
     "data": {
      "image/png": "[encoded data removed]",
      "text/plain": [
       "<matplotlib.figure.Figure at 0x7f03bd23bcf8>"
      ]
     },
     "metadata": {},
     "output_type": "display_data"
    },
    {
     "data": {
      "image/png": "[encoded data removed]",
      "text/plain": [
       "<matplotlib.figure.Figure at 0x7f03bdcca3c8>"
      ]
     },
     "metadata": {},
     "output_type": "display_data"
    },
    {
     "data": {
      "image/png": "[encoded data removed]",
      "text/plain": [
       "<matplotlib.figure.Figure at 0x7f03bd23be48>"
      ]
     },
     "metadata": {},
     "output_type": "display_data"
    },
    {
     "data": {
      "image/png": "[encoded data removed]",
      "text/plain": [
       "<matplotlib.figure.Figure at 0x7f03bccaca58>"
      ]
     },
     "metadata": {},
     "output_type": "display_data"
    },
    {
     "data": {
      "image/png": "[encoded data removed]",
      "text/plain": [
       "<matplotlib.figure.Figure at 0x7f03bdcdb6a0>"
      ]
     },
     "metadata": {},
     "output_type": "display_data"
    },
    {
     "data": {
      "image/png": "[encoded data removed]",
      "text/plain": [
       "<matplotlib.figure.Figure at 0x7f03bd407ef0>"
      ]
     },
     "metadata": {},
     "output_type": "display_data"
    }
   ],
   "source": [
    "from scipy.stats import pearsonr\n",
    "\n",
    "np_marks = numeric_clear_data[['mark']].values\n",
    "columns = list(numeric_clear_data)\n",
    "columns.remove('mark')\n",
    "for column in columns:\n",
    "    np_column_data = numeric_clear_data[[column]].values\n",
    "    correlation = pearsonr(np_marks, np_column_data)\n",
    "    plt.scatter(np_column_data, np_marks)\n",
    "    title = '{} correlation: {}  p-value: {}'.format(column, correlation[0][0], correlation[1][0])\n",
    "    plt.title(title)\n",
    "    plt.show()"
   ]
  },
  {
   "cell_type": "markdown",
   "metadata": {},
   "source": [
    "Summary of correlation coefficients for numeric features."
   ]
  },
  {
   "cell_type": "code",
   "execution_count": 63,
   "metadata": {
    "collapsed": false
   },
   "outputs": [
    {
     "name": "stdout",
     "output_type": "stream",
     "text": [
      "brewing_temp correlation: -0.02885969832268532  p-value: 0.6150506372306709\n",
      "coffee_amount correlation: 0.015846808824752243  p-value: 0.7824798884725637\n",
      "preinfusion correlation: 0.010382306027990822  p-value: 0.8564635244025991\n",
      "grinding_level correlation: 0.1638032244279339  p-value: 0.00406478598838625\n",
      "TDS correlation: -0.09031892067749894  p-value: 0.11486601344445428\n",
      "water_ph correlation: 0.1078162035382262  p-value: 0.05959350944352257\n",
      "plantation_height correlation: 0.02194976687141731  p-value: 0.7021359530486185\n",
      "brewing_time correlation: -0.18089607331956895  p-value: 0.001484512880683596\n"
     ]
    }
   ],
   "source": [
    "for column in columns:\n",
    "    np_column_data = numeric_clear_data[[column]].values\n",
    "    correlation = pearsonr(np_marks, np_column_data)\n",
    "    print('{} correlation: {}  p-value: {}'.format(column, correlation[0][0], correlation[1][0]))"
   ]
  },
  {
   "cell_type": "markdown",
   "metadata": {},
   "source": [
    "## Summary of correlations"
   ]
  },
  {
   "cell_type": "markdown",
   "metadata": {},
   "source": [
    "As we can see the strongest correlation between variable and response we have in case of brewing_time, there is negative correlation. We can also notice that second biggest correlation is for grinding_level variable. But still both correlations aren't strong."
   ]
  },
  {
   "cell_type": "markdown",
   "metadata": {},
   "source": [
    "# 3. Principal Component Analysis"
   ]
  },
  {
   "cell_type": "markdown",
   "metadata": {},
   "source": [
    "Using PCA we can estimate which variables corresponds to a greatest variation in our dataset."
   ]
  },
  {
   "cell_type": "code",
   "execution_count": 70,
   "metadata": {
    "collapsed": false
   },
   "outputs": [
    {
     "name": "stdout",
     "output_type": "stream",
     "text": [
      "[ 0.25619992  0.18701288  0.1501211 ]\n",
      "[ 0.24966891 -0.34715875 -0.61016609  0.01541462  0.28473104 -0.07781754\n",
      " -0.59789517]\n"
     ]
    }
   ],
   "source": [
    "from sklearn.decomposition import PCA\n",
    "\n",
    "data_without_marks = numeric_clear_data.drop('mark', 1)\n",
    "# we exclude preinfucion because in fact it's non numeric, its boolean\n",
    "data_without_marks = data_without_marks.drop('preinfusion', 1)\n",
    "pca = PCA(n_components = 3)\n",
    "pca.fit(data_without_marks)\n",
    "print(pca.explained_variance_ratio_)\n",
    "print(pca.components_[0])"
   ]
  },
  {
   "cell_type": "code",
   "execution_count": 71,
   "metadata": {
    "collapsed": false
   },
   "outputs": [
    {
     "name": "stdout",
     "output_type": "stream",
     "text": [
      "<class 'pandas.core.frame.DataFrame'>\n",
      "Int64Index: 306 entries, 2 to 499\n",
      "Data columns (total 7 columns):\n",
      "brewing_temp         306 non-null float64\n",
      "coffee_amount        306 non-null float64\n",
      "grinding_level       306 non-null float64\n",
      "TDS                  306 non-null float64\n",
      "water_ph             306 non-null float64\n",
      "plantation_height    306 non-null float64\n",
      "brewing_time         306 non-null float64\n",
      "dtypes: float64(7)\n",
      "memory usage: 19.1 KB\n"
     ]
    }
   ],
   "source": [
    "data_without_marks.info()"
   ]
  },
  {
   "cell_type": "markdown",
   "metadata": {},
   "source": [
    "## Summary of PCA"
   ]
  },
  {
   "cell_type": "markdown",
   "metadata": {},
   "source": [
    "Principal component 1 (which explains 0.526 of variance) is linear combination of original variables, where the biggest part have third original variable which is grinding_level with coefficient = -0.61016609, second bigges part of 1st PC is brewing_time with coefficient = -0.59789517. There are some valuable informations, but doe's not include relation with output, PCA explains only contribution of variables in overall data variation."
   ]
  },
  {
   "cell_type": "markdown",
   "metadata": {},
   "source": [
    "# 4. Decision trees"
   ]
  },
  {
   "cell_type": "markdown",
   "metadata": {},
   "source": [
    "Decision trees use concepts of entropy and information gain to choose order of variables in forks of generated tree. Lets take a look which variable is best for first split (at thee root of a tree) in those algorithm. It can be a clue which variable is best to describe output - mark of coffee."
   ]
  },
  {
   "cell_type": "markdown",
   "metadata": {},
   "source": [
    "First build a tree classifier."
   ]
  },
  {
   "cell_type": "code",
   "execution_count": 75,
   "metadata": {
    "collapsed": false
   },
   "outputs": [
    {
     "data": {
      "text/plain": [
       "sklearn.tree._tree.Tree"
      ]
     },
     "execution_count": 75,
     "metadata": {},
     "output_type": "execute_result"
    }
   ],
   "source": [
    "from sklearn import tree\n",
    "\n",
    "X = numeric_clear_data.drop([\"mark\"], 1).values\n",
    "Y = numeric_clear_data[[\"mark\"]].values\n",
    "\n",
    "\n",
    "tree_clf = tree.DecisionTreeRegressor()\n",
    "tree_clf = tree_clf.fit(X, Y)\n",
    "\n",
    "type(tree_clf.tree_)"
   ]
  },
  {
   "cell_type": "markdown",
   "metadata": {},
   "source": [
    "Now we have to look into tree structure. Here's function to print tree classifier as a code in Python."
   ]
  },
  {
   "cell_type": "code",
   "execution_count": 76,
   "metadata": {
    "collapsed": false
   },
   "outputs": [],
   "source": [
    "from sklearn.tree import _tree\n",
    "\n",
    "def tree_to_code(tree, feature_names):\n",
    "    tree_ = tree.tree_\n",
    "    feature_name = [\n",
    "        feature_names[i] if i != _tree.TREE_UNDEFINED else \"undefined!\"\n",
    "        for i in tree_.feature\n",
    "    ]\n",
    "    print (\"def tree({}):\".format(\", \".join(feature_names)))\n",
    "\n",
    "    def recurse(node, depth):\n",
    "        indent = \"  \" * depth\n",
    "        if tree_.feature[node] != _tree.TREE_UNDEFINED:\n",
    "            name = feature_name[node]\n",
    "            threshold = tree_.threshold[node]\n",
    "            print (\"{}if {} <= {}:\".format(indent, name, threshold))\n",
    "            recurse(tree_.children_left[node], depth + 1)\n",
    "            print (\"{}else:  # if {} > {}\".format(indent, name, threshold))\n",
    "            recurse(tree_.children_right[node], depth + 1)\n",
    "        else:\n",
    "            print (\"{}return {}\".format(indent, tree_.value[node]))\n",
    "\n",
    "    recurse(0, 1)"
   ]
  },
  {
   "cell_type": "markdown",
   "metadata": {},
   "source": [
    "Let's use it to see how tree in build."
   ]
  },
  {
   "cell_type": "code",
   "execution_count": 78,
   "metadata": {
    "collapsed": false
   },
   "outputs": [
    {
     "name": "stdout",
     "output_type": "stream",
     "text": [
      "def tree(brewing_temp, coffee_amount, preinfusion, grinding_level, TDS, water_ph, plantation_height, brewing_time, mark):\n",
      "  if brewing_time <= 0.5916666984558105:\n",
      "    if coffee_amount <= 0.6499999761581421:\n",
      "      if grinding_level <= 0.4375:\n",
      "        if water_ph <= 0.10357142984867096:\n",
      "          if plantation_height <= 0.5076923370361328:\n",
      "            return [[ 0.]]\n",
      "          else:  # if plantation_height > 0.5076923370361328\n",
      "            return [[ 0.25]]\n",
      "        else:  # if water_ph > 0.10357142984867096\n",
      "          if brewing_temp <= 0.5:\n",
      "            if coffee_amount <= 0.2857142984867096:\n",
      "              return [[ 0.25]]\n",
      "            else:  # if coffee_amount > 0.2857142984867096\n",
      "              if brewing_temp <= 0.4529411792755127:\n",
      "                return [[ 0.75]]\n",
      "              else:  # if brewing_temp > 0.4529411792755127\n",
      "                if brewing_temp <= 0.46764707565307617:\n",
      "                  return [[ 0.5]]\n",
      "                else:  # if brewing_temp > 0.46764707565307617\n",
      "                  return [[ 0.75]]\n",
      "          else:  # if brewing_temp > 0.5\n",
      "            if grinding_level <= 0.3125:\n",
      "              if brewing_time <= 0.4833333492279053:\n",
      "                return [[ 0.5]]\n",
      "              else:  # if brewing_time > 0.4833333492279053\n",
      "                if brewing_time <= 0.49166667461395264:\n",
      "                  return [[ 0.75]]\n",
      "                else:  # if brewing_time > 0.49166667461395264\n",
      "                  return [[ 0.5]]\n",
      "            else:  # if grinding_level > 0.3125\n",
      "              if brewing_temp <= 0.6352940797805786:\n",
      "                if coffee_amount <= 0.4642857313156128:\n",
      "                  return [[ 0.75]]\n",
      "                else:  # if coffee_amount > 0.4642857313156128\n",
      "                  return [[ 0.5]]\n",
      "              else:  # if brewing_temp > 0.6352940797805786\n",
      "                return [[ 1.]]\n",
      "      else:  # if grinding_level > 0.4375\n",
      "        if brewing_temp <= 0.5058823823928833:\n",
      "          if coffee_amount <= 0.3857142925262451:\n",
      "            return [[ 1.]]\n",
      "          else:  # if coffee_amount > 0.3857142925262451\n",
      "            if brewing_time <= 0.36666667461395264:\n",
      "              return [[ 0.25]]\n",
      "            else:  # if brewing_time > 0.36666667461395264\n",
      "              if brewing_temp <= 0.46764707565307617:\n",
      "                if TDS <= 0.6333333253860474:\n",
      "                  return [[ 0.75]]\n",
      "                else:  # if TDS > 0.6333333253860474\n",
      "                  if plantation_height <= 0.4923076927661896:\n",
      "                    return [[ 0.75]]\n",
      "                  else:  # if plantation_height > 0.4923076927661896\n",
      "                    return [[ 0.25]]\n",
      "              else:  # if brewing_temp > 0.46764707565307617\n",
      "                if grinding_level <= 0.6875:\n",
      "                  if TDS <= 0.5:\n",
      "                    return [[ 0.25]]\n",
      "                  else:  # if TDS > 0.5\n",
      "                    return [[ 0.75]]\n",
      "                else:  # if grinding_level > 0.6875\n",
      "                  return [[ 0.75]]\n",
      "        else:  # if brewing_temp > 0.5058823823928833\n",
      "          if brewing_time <= 0.5777777433395386:\n",
      "            if coffee_amount <= 0.37857145071029663:\n",
      "              return [[ 0.75]]\n",
      "            else:  # if coffee_amount > 0.37857145071029663\n",
      "              return [[ 1.]]\n",
      "          else:  # if brewing_time > 0.5777777433395386\n",
      "            return [[ 0.5]]\n",
      "    else:  # if coffee_amount > 0.6499999761581421\n",
      "      if brewing_time <= 0.5694444179534912:\n",
      "        if brewing_temp <= 0.7852941155433655:\n",
      "          if brewing_temp <= 0.16470588743686676:\n",
      "            return [[ 0.75]]\n",
      "          else:  # if brewing_temp > 0.16470588743686676\n",
      "            if brewing_time <= 0.49444442987442017:\n",
      "              if plantation_height <= 0.634615421295166:\n",
      "                return [[ 0.25]]\n",
      "              else:  # if plantation_height > 0.634615421295166\n",
      "                if brewing_time <= 0.46388888359069824:\n",
      "                  if plantation_height <= 0.6576923131942749:\n",
      "                    return [[ 0.75]]\n",
      "                  else:  # if plantation_height > 0.6576923131942749\n",
      "                    return [[ 0.5]]\n",
      "                else:  # if brewing_time > 0.46388888359069824\n",
      "                  return [[ 0.25]]\n",
      "            else:  # if brewing_time > 0.49444442987442017\n",
      "              return [[ 0.5]]\n",
      "        else:  # if brewing_temp > 0.7852941155433655\n",
      "          return [[ 1.]]\n",
      "      else:  # if brewing_time > 0.5694444179534912\n",
      "        if grinding_level <= 0.8125:\n",
      "          return [[ 1.]]\n",
      "        else:  # if grinding_level > 0.8125\n",
      "          return [[ 0.5]]\n",
      "  else:  # if brewing_time > 0.5916666984558105\n",
      "    if coffee_amount <= 0.6071428656578064:\n",
      "      if grinding_level <= 0.3125:\n",
      "        if brewing_time <= 0.6083333492279053:\n",
      "          return [[ 0.75]]\n",
      "        else:  # if brewing_time > 0.6083333492279053\n",
      "          return [[ 0.]]\n",
      "      else:  # if grinding_level > 0.3125\n",
      "        if brewing_time <= 0.7250000238418579:\n",
      "          if brewing_temp <= 0.3588235378265381:\n",
      "            if grinding_level <= 0.4375:\n",
      "              return [[ 0.]]\n",
      "            else:  # if grinding_level > 0.4375\n",
      "              return [[ 0.25]]\n",
      "          else:  # if brewing_temp > 0.3588235378265381\n",
      "            if coffee_amount <= 0.5:\n",
      "              if grinding_level <= 0.5625:\n",
      "                return [[ 0.75]]\n",
      "              else:  # if grinding_level > 0.5625\n",
      "                return [[ 1.]]\n",
      "            else:  # if coffee_amount > 0.5\n",
      "              if TDS <= 0.36666667461395264:\n",
      "                return [[ 1.]]\n",
      "              else:  # if TDS > 0.36666667461395264\n",
      "                if brewing_temp <= 0.5323529243469238:\n",
      "                  return [[ 0.25]]\n",
      "                else:  # if brewing_temp > 0.5323529243469238\n",
      "                  return [[ 0.5]]\n",
      "        else:  # if brewing_time > 0.7250000238418579\n",
      "          if TDS <= 0.23333334922790527:\n",
      "            return [[ 1.]]\n",
      "          else:  # if TDS > 0.23333334922790527\n",
      "            if TDS <= 0.5666667222976685:\n",
      "              if coffee_amount <= 0.4642857313156128:\n",
      "                return [[ 0.]]\n",
      "              else:  # if coffee_amount > 0.4642857313156128\n",
      "                if grinding_level <= 0.4375:\n",
      "                  return [[ 1.]]\n",
      "                else:  # if grinding_level > 0.4375\n",
      "                  if brewing_temp <= 0.5764706134796143:\n",
      "                    if brewing_time <= 0.7527778148651123:\n",
      "                      if water_ph <= 0.19714286923408508:\n",
      "                        return [[ 0.]]\n",
      "                      else:  # if water_ph > 0.19714286923408508\n",
      "                        return [[ 0.25]]\n",
      "                    else:  # if brewing_time > 0.7527778148651123\n",
      "                      return [[ 0.25]]\n",
      "                  else:  # if brewing_temp > 0.5764706134796143\n",
      "                    return [[ 0.]]\n",
      "            else:  # if TDS > 0.5666667222976685\n",
      "              if water_ph <= 0.35357141494750977:\n",
      "                return [[ 0.25]]\n",
      "              else:  # if water_ph > 0.35357141494750977\n",
      "                return [[ 0.]]\n",
      "    else:  # if coffee_amount > 0.6071428656578064\n",
      "      if brewing_temp <= 0.479411780834198:\n",
      "        if coffee_amount <= 0.6928571462631226:\n",
      "          if brewing_time <= 0.7861111164093018:\n",
      "            if water_ph <= 0.6542856693267822:\n",
      "              return [[ 0.25]]\n",
      "            else:  # if water_ph > 0.6542856693267822\n",
      "              return [[ 0.5]]\n",
      "          else:  # if brewing_time > 0.7861111164093018\n",
      "            return [[ 1.]]\n",
      "        else:  # if coffee_amount > 0.6928571462631226\n",
      "          if coffee_amount <= 0.8285714387893677:\n",
      "            if plantation_height <= 0.29230770468711853:\n",
      "              return [[ 0.25]]\n",
      "            else:  # if plantation_height > 0.29230770468711853\n",
      "              return [[ 1.]]\n",
      "          else:  # if coffee_amount > 0.8285714387893677\n",
      "            if grinding_level <= 0.5625:\n",
      "              return [[ 0.25]]\n",
      "            else:  # if grinding_level > 0.5625\n",
      "              return [[ 0.5]]\n",
      "      else:  # if brewing_temp > 0.479411780834198\n",
      "        if brewing_time <= 0.6527777910232544:\n",
      "          if brewing_temp <= 0.6323529481887817:\n",
      "            return [[ 0.5]]\n",
      "          else:  # if brewing_temp > 0.6323529481887817\n",
      "            return [[ 0.]]\n",
      "        else:  # if brewing_time > 0.6527777910232544\n",
      "          if TDS <= 0.7000000476837158:\n",
      "            if grinding_level <= 0.4375:\n",
      "              if plantation_height <= 0.5692307949066162:\n",
      "                if water_ph <= 0.6535714268684387:\n",
      "                  return [[ 1.]]\n",
      "                else:  # if water_ph > 0.6535714268684387\n",
      "                  return [[ 0.5]]\n",
      "              else:  # if plantation_height > 0.5692307949066162\n",
      "                return [[ 0.5]]\n",
      "            else:  # if grinding_level > 0.4375\n",
      "              if brewing_temp <= 0.49705883860588074:\n",
      "                return [[ 0.25]]\n",
      "              else:  # if brewing_temp > 0.49705883860588074\n",
      "                return [[ 0.5]]\n",
      "          else:  # if TDS > 0.7000000476837158\n",
      "            if water_ph <= 0.46642857789993286:\n",
      "              return [[ 0.]]\n",
      "            else:  # if water_ph > 0.46642857789993286\n",
      "              return [[ 0.5]]\n"
     ]
    }
   ],
   "source": [
    "feature_names = list(numeric_clear_data.columns.values)\n",
    "tree_to_code(tree_clf, feature_names)"
   ]
  },
  {
   "cell_type": "markdown",
   "metadata": {},
   "source": [
    "## Summary of decision tree approach"
   ]
  },
  {
   "cell_type": "markdown",
   "metadata": {},
   "source": [
    "The most important part of generated code is:\n",
    "\n",
    "if brewing_time <= 0.5916666984558105:\n",
    "    if coffee_amount <= 0.6499999761581421:\n",
    "\n",
    "So, decision tree classifier found that the best variables in terms of information gain are brewing_time followed by coffee_amount:\n",
    "\n"
   ]
  },
  {
   "cell_type": "markdown",
   "metadata": {},
   "source": [
    "# 5. Nonnumeric (nominal and ordinal) variables"
   ]
  },
  {
   "cell_type": "code",
   "execution_count": 79,
   "metadata": {
    "collapsed": false
   },
   "outputs": [
    {
     "data": {
      "text/plain": [
       "['region', 'preinfusion', 'processing_method']"
      ]
     },
     "execution_count": 79,
     "metadata": {},
     "output_type": "execute_result"
    }
   ],
   "source": [
    "['region', 'preinfusion', 'processing_method']"
   ]
  },
  {
   "cell_type": "code",
   "execution_count": 80,
   "metadata": {
    "collapsed": false,
    "scrolled": false
   },
   "outputs": [
    {
     "data": {
      "text/html": [
       "<div>\n",
       "<style scoped>\n",
       "    .dataframe tbody tr th:only-of-type {\n",
       "        vertical-align: middle;\n",
       "    }\n",
       "\n",
       "    .dataframe tbody tr th {\n",
       "        vertical-align: top;\n",
       "    }\n",
       "\n",
       "    .dataframe thead tr th {\n",
       "        text-align: left;\n",
       "    }\n",
       "\n",
       "    .dataframe thead tr:last-of-type th {\n",
       "        text-align: right;\n",
       "    }\n",
       "</style>\n",
       "<table border=\"1\" class=\"dataframe\">\n",
       "  <thead>\n",
       "    <tr>\n",
       "      <th></th>\n",
       "      <th colspan=\"4\" halign=\"left\">mark</th>\n",
       "    </tr>\n",
       "    <tr>\n",
       "      <th></th>\n",
       "      <th>mean</th>\n",
       "      <th>median</th>\n",
       "      <th>std</th>\n",
       "      <th>count</th>\n",
       "    </tr>\n",
       "    <tr>\n",
       "      <th>region</th>\n",
       "      <th></th>\n",
       "      <th></th>\n",
       "      <th></th>\n",
       "      <th></th>\n",
       "    </tr>\n",
       "  </thead>\n",
       "  <tbody>\n",
       "    <tr>\n",
       "      <th>Guatemala</th>\n",
       "      <td>5.000000</td>\n",
       "      <td>5</td>\n",
       "      <td>NaN</td>\n",
       "      <td>1</td>\n",
       "    </tr>\n",
       "    <tr>\n",
       "      <th>Brazil</th>\n",
       "      <td>3.400000</td>\n",
       "      <td>3</td>\n",
       "      <td>1.140175</td>\n",
       "      <td>5</td>\n",
       "    </tr>\n",
       "    <tr>\n",
       "      <th>Panama</th>\n",
       "      <td>3.274809</td>\n",
       "      <td>3</td>\n",
       "      <td>1.312973</td>\n",
       "      <td>131</td>\n",
       "    </tr>\n",
       "    <tr>\n",
       "      <th>Rwanda</th>\n",
       "      <td>3.223301</td>\n",
       "      <td>3</td>\n",
       "      <td>1.244061</td>\n",
       "      <td>103</td>\n",
       "    </tr>\n",
       "    <tr>\n",
       "      <th>Ethiopia</th>\n",
       "      <td>3.214286</td>\n",
       "      <td>3</td>\n",
       "      <td>1.397276</td>\n",
       "      <td>28</td>\n",
       "    </tr>\n",
       "    <tr>\n",
       "      <th>Colombia</th>\n",
       "      <td>3.203704</td>\n",
       "      <td>3</td>\n",
       "      <td>1.187667</td>\n",
       "      <td>54</td>\n",
       "    </tr>\n",
       "    <tr>\n",
       "      <th>Kenya</th>\n",
       "      <td>3.109756</td>\n",
       "      <td>3</td>\n",
       "      <td>1.233540</td>\n",
       "      <td>164</td>\n",
       "    </tr>\n",
       "    <tr>\n",
       "      <th>Honduras</th>\n",
       "      <td>2.928571</td>\n",
       "      <td>3</td>\n",
       "      <td>1.206666</td>\n",
       "      <td>14</td>\n",
       "    </tr>\n",
       "  </tbody>\n",
       "</table>\n",
       "</div>"
      ],
      "text/plain": [
       "               mark                       \n",
       "               mean median       std count\n",
       "region                                    \n",
       "Guatemala  5.000000      5       NaN     1\n",
       "Brazil     3.400000      3  1.140175     5\n",
       "Panama     3.274809      3  1.312973   131\n",
       "Rwanda     3.223301      3  1.244061   103\n",
       "Ethiopia   3.214286      3  1.397276    28\n",
       "Colombia   3.203704      3  1.187667    54\n",
       "Kenya      3.109756      3  1.233540   164\n",
       "Honduras   2.928571      3  1.206666    14"
      ]
     },
     "execution_count": 80,
     "metadata": {},
     "output_type": "execute_result"
    }
   ],
   "source": [
    "region_data = coffee_data[['region', 'mark']]\n",
    "aggregated = region_data.groupby('region').agg(['mean', 'median', 'std', 'count']).sort_values(('mark', 'mean'), ascending=False)\n",
    "aggregated"
   ]
  },
  {
   "cell_type": "code",
   "execution_count": 81,
   "metadata": {
    "collapsed": false,
    "scrolled": false
   },
   "outputs": [
    {
     "data": {
      "text/html": [
       "<div>\n",
       "<style scoped>\n",
       "    .dataframe tbody tr th:only-of-type {\n",
       "        vertical-align: middle;\n",
       "    }\n",
       "\n",
       "    .dataframe tbody tr th {\n",
       "        vertical-align: top;\n",
       "    }\n",
       "\n",
       "    .dataframe thead tr th {\n",
       "        text-align: left;\n",
       "    }\n",
       "\n",
       "    .dataframe thead tr:last-of-type th {\n",
       "        text-align: right;\n",
       "    }\n",
       "</style>\n",
       "<table border=\"1\" class=\"dataframe\">\n",
       "  <thead>\n",
       "    <tr>\n",
       "      <th></th>\n",
       "      <th colspan=\"4\" halign=\"left\">mark</th>\n",
       "    </tr>\n",
       "    <tr>\n",
       "      <th></th>\n",
       "      <th>mean</th>\n",
       "      <th>median</th>\n",
       "      <th>std</th>\n",
       "      <th>count</th>\n",
       "    </tr>\n",
       "    <tr>\n",
       "      <th>preinfusion</th>\n",
       "      <th></th>\n",
       "      <th></th>\n",
       "      <th></th>\n",
       "      <th></th>\n",
       "    </tr>\n",
       "  </thead>\n",
       "  <tbody>\n",
       "    <tr>\n",
       "      <th>1.0</th>\n",
       "      <td>3.184906</td>\n",
       "      <td>3</td>\n",
       "      <td>1.282073</td>\n",
       "      <td>265</td>\n",
       "    </tr>\n",
       "    <tr>\n",
       "      <th>0.0</th>\n",
       "      <td>3.134503</td>\n",
       "      <td>3</td>\n",
       "      <td>1.273962</td>\n",
       "      <td>171</td>\n",
       "    </tr>\n",
       "  </tbody>\n",
       "</table>\n",
       "</div>"
      ],
      "text/plain": [
       "                 mark                       \n",
       "                 mean median       std count\n",
       "preinfusion                                 \n",
       "1.0          3.184906      3  1.282073   265\n",
       "0.0          3.134503      3  1.273962   171"
      ]
     },
     "execution_count": 81,
     "metadata": {},
     "output_type": "execute_result"
    }
   ],
   "source": [
    "region_data = coffee_data[['preinfusion', 'mark']]\n",
    "aggregated = region_data.groupby('preinfusion').agg(['mean', 'median', 'std', 'count']).sort_values(('mark', 'mean'), ascending=False)\n",
    "aggregated"
   ]
  },
  {
   "cell_type": "code",
   "execution_count": 109,
   "metadata": {
    "collapsed": false,
    "scrolled": true
   },
   "outputs": [
    {
     "data": {
      "text/html": [
       "<div>\n",
       "<style scoped>\n",
       "    .dataframe tbody tr th:only-of-type {\n",
       "        vertical-align: middle;\n",
       "    }\n",
       "\n",
       "    .dataframe tbody tr th {\n",
       "        vertical-align: top;\n",
       "    }\n",
       "\n",
       "    .dataframe thead tr th {\n",
       "        text-align: left;\n",
       "    }\n",
       "\n",
       "    .dataframe thead tr:last-of-type th {\n",
       "        text-align: right;\n",
       "    }\n",
       "</style>\n",
       "<table border=\"1\" class=\"dataframe\">\n",
       "  <thead>\n",
       "    <tr>\n",
       "      <th></th>\n",
       "      <th colspan=\"4\" halign=\"left\">mark</th>\n",
       "    </tr>\n",
       "    <tr>\n",
       "      <th></th>\n",
       "      <th>mean</th>\n",
       "      <th>median</th>\n",
       "      <th>std</th>\n",
       "      <th>count</th>\n",
       "    </tr>\n",
       "    <tr>\n",
       "      <th>processing_method</th>\n",
       "      <th></th>\n",
       "      <th></th>\n",
       "      <th></th>\n",
       "      <th></th>\n",
       "    </tr>\n",
       "  </thead>\n",
       "  <tbody>\n",
       "    <tr>\n",
       "      <th>Pulped Natural</th>\n",
       "      <td>3.352941</td>\n",
       "      <td>3</td>\n",
       "      <td>1.411612</td>\n",
       "      <td>17</td>\n",
       "    </tr>\n",
       "    <tr>\n",
       "      <th>Washed</th>\n",
       "      <td>3.232673</td>\n",
       "      <td>3</td>\n",
       "      <td>1.250004</td>\n",
       "      <td>202</td>\n",
       "    </tr>\n",
       "    <tr>\n",
       "      <th>Honey</th>\n",
       "      <td>3.180812</td>\n",
       "      <td>3</td>\n",
       "      <td>1.235494</td>\n",
       "      <td>271</td>\n",
       "    </tr>\n",
       "    <tr>\n",
       "      <th>Natural</th>\n",
       "      <td>2.500000</td>\n",
       "      <td>2</td>\n",
       "      <td>1.649916</td>\n",
       "      <td>10</td>\n",
       "    </tr>\n",
       "  </tbody>\n",
       "</table>\n",
       "</div>"
      ],
      "text/plain": [
       "                       mark                       \n",
       "                       mean median       std count\n",
       "processing_method                                 \n",
       "Pulped Natural     3.352941      3  1.411612    17\n",
       "Washed             3.232673      3  1.250004   202\n",
       "Honey              3.180812      3  1.235494   271\n",
       "Natural            2.500000      2  1.649916    10"
      ]
     },
     "execution_count": 109,
     "metadata": {},
     "output_type": "execute_result"
    }
   ],
   "source": [
    "region_data = coffee_data[['processing_method', 'mark']]\n",
    "aggregated = region_data.groupby('processing_method').agg(['mean', 'median', 'std', 'count']).sort_values(('mark', 'mean'), ascending=False)\n",
    "aggregated"
   ]
  },
  {
   "cell_type": "markdown",
   "metadata": {},
   "source": [
    "# 6. Overall summary"
   ]
  },
  {
   "cell_type": "markdown",
   "metadata": {},
   "source": [
    "### Numeric variables"
   ]
  },
  {
   "cell_type": "markdown",
   "metadata": {},
   "source": [
    "Correlations:\n",
    "Strongest correlation between variable and response we have in case of brewing_time, second biggest correlation is in case of grinding_level\n",
    "    \n",
    "PCA:\n",
    "Based on PCA the most important variable in terms of explanation of overall variance is grinding_level followed by brewing_time\n",
    "\n",
    "DecisionTree approach:\n",
    "\n",
    "Decision tree classifier found that the best variables in terms of information gain are brewing_time followed by coffee_amount.\n",
    "\n",
    "So in case of numerc attributes we can point brewing_time as most predictive feature."
   ]
  },
  {
   "cell_type": "markdown",
   "metadata": {},
   "source": [
    "### All variables"
   ]
  },
  {
   "cell_type": "markdown",
   "metadata": {},
   "source": [
    "The most difficult part of analysis was comparsion between numeric and non numeric variables. First though is discretization of numeric attributes and compare all of them as nonnumeric, or compare efficiency of classifiers/regressors based sets ov variables with excluded ones one by one. I've decided to use very nice tool in R-language to perform the rest of analysis. Because R have great library to \"unblackboxing\" machine learning models in particular, can rank the importance of variables. So at this point i decided to end analysis, but i can continue it in python if necessary."
   ]
  }
 ],
 "metadata": {
  "anaconda-cloud": {},
  "kernelspec": {
   "display_name": "Python [default]",
   "language": "python",
   "name": "python3"
  },
  "language_info": {
   "codemirror_mode": {
    "name": "ipython",
    "version": 3
   },
   "file_extension": ".py",
   "mimetype": "text/x-python",
   "name": "python",
   "nbconvert_exporter": "python",
   "pygments_lexer": "ipython3",
   "version": "3.5.2"
  }
 },
 "nbformat": 4,
 "nbformat_minor": 2
}
